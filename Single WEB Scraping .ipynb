{
 "cells": [
  {
   "cell_type": "code",
   "execution_count": 98,
   "id": "4f75881a",
   "metadata": {},
   "outputs": [],
   "source": [
    "#- Songs that are actually similar to the ones they picked from an acoustic point of view.\n",
    "#- Songs that are popular around the world right now, independently from their tastes."
   ]
  },
  {
   "cell_type": "code",
   "execution_count": 99,
   "id": "252ab1d2",
   "metadata": {},
   "outputs": [],
   "source": [
    "# 1. Import the Libraries\n",
    "from bs4 import BeautifulSoup\n",
    "import requests\n",
    "import pandas as pd"
   ]
  },
  {
   "cell_type": "code",
   "execution_count": 100,
   "id": "d572ccbf",
   "metadata": {},
   "outputs": [],
   "source": [
    "# 2. find url and store it in a variable\n",
    "url = \"http://www.popvortex.com/music/charts/top-100-songs.php\""
   ]
  },
  {
   "cell_type": "code",
   "execution_count": 101,
   "id": "62d4393b",
   "metadata": {},
   "outputs": [
    {
     "data": {
      "text/plain": [
       "200"
      ]
     },
     "execution_count": 101,
     "metadata": {},
     "output_type": "execute_result"
    }
   ],
   "source": [
    "# 3. download html with a get request\n",
    "response = requests.get(url)\n",
    "response.status_code"
   ]
  },
  {
   "cell_type": "code",
   "execution_count": 102,
   "id": "24bdc91c",
   "metadata": {},
   "outputs": [],
   "source": [
    "soup = BeautifulSoup(response.content, \"html.parser\")"
   ]
  },
  {
   "cell_type": "code",
   "execution_count": 103,
   "id": "d544c454",
   "metadata": {},
   "outputs": [],
   "source": [
    "#chart-position-1 > div.chart-content.col-xs-12.col-sm-8\n",
    "#chart-position-1 > div.chart-content.col-xs-12.col-sm-8 > p > cite"
   ]
  },
  {
   "cell_type": "code",
   "execution_count": 114,
   "id": "eddb8267",
   "metadata": {},
   "outputs": [
    {
     "data": {
      "text/plain": [
       "[<p class=\"title-artist\"><cite class=\"title\">81 Million Votes, My Ass</cite><em class=\"artist\">The Truth Bombers &amp; Kari Lake</em></p>]"
      ]
     },
     "metadata": {},
     "output_type": "display_data"
    }
   ],
   "source": [
    "result = soup.select(\"#chart-position-1 > div.chart-content.col-xs-12.col-sm-8 > p\")\n",
    "display(result)"
   ]
  },
  {
   "cell_type": "code",
   "execution_count": 115,
   "id": "9ac72f7a",
   "metadata": {},
   "outputs": [],
   "source": [
    "#soup"
   ]
  },
  {
   "cell_type": "code",
   "execution_count": 116,
   "id": "46dc4e32",
   "metadata": {},
   "outputs": [
    {
     "data": {
      "text/plain": [
       "99"
      ]
     },
     "metadata": {},
     "output_type": "display_data"
    }
   ],
   "source": [
    "# body > div.container > div:nth-child(4) > div.col-xs-12.col-md-8 > div.chart-wrapper\n",
    "    \n",
    "result2 = soup.select(\"body > div.container > div:nth-child(4) > div.col-xs-12.col-md-8 > div.chart-wrapper p cite\")\n",
    "\n",
    "titles = []\n",
    "\n",
    "for item in result2:\n",
    "    titles.append(item.get_text())\n",
    "#     print(item.get_text())\n",
    "    \n",
    "display(len(titles))\n",
    "# display(titles)"
   ]
  },
  {
   "cell_type": "code",
   "execution_count": 112,
   "id": "33cb8ff0",
   "metadata": {},
   "outputs": [
    {
     "data": {
      "text/plain": [
       "99"
      ]
     },
     "execution_count": 112,
     "metadata": {},
     "output_type": "execute_result"
    }
   ],
   "source": [
    "artists_result = soup.select(\".artist\")\n",
    "artists = []\n",
    "\n",
    "for item in artists_result:\n",
    "    artists.append(item.get_text())\n",
    "    \n",
    "len(artists)    "
   ]
  },
  {
   "cell_type": "code",
   "execution_count": 113,
   "id": "8fa048c1",
   "metadata": {},
   "outputs": [
    {
     "data": {
      "text/html": [
       "<div>\n",
       "<style scoped>\n",
       "    .dataframe tbody tr th:only-of-type {\n",
       "        vertical-align: middle;\n",
       "    }\n",
       "\n",
       "    .dataframe tbody tr th {\n",
       "        vertical-align: top;\n",
       "    }\n",
       "\n",
       "    .dataframe thead th {\n",
       "        text-align: right;\n",
       "    }\n",
       "</style>\n",
       "<table border=\"1\" class=\"dataframe\">\n",
       "  <thead>\n",
       "    <tr style=\"text-align: right;\">\n",
       "      <th></th>\n",
       "      <th>title</th>\n",
       "      <th>artists</th>\n",
       "    </tr>\n",
       "  </thead>\n",
       "  <tbody>\n",
       "    <tr>\n",
       "      <th>0</th>\n",
       "      <td>81 Million Votes, My Ass</td>\n",
       "      <td>The Truth Bombers &amp; Kari Lake</td>\n",
       "    </tr>\n",
       "    <tr>\n",
       "      <th>1</th>\n",
       "      <td>Fast Car</td>\n",
       "      <td>Luke Combs</td>\n",
       "    </tr>\n",
       "    <tr>\n",
       "      <th>2</th>\n",
       "      <td>Take Two</td>\n",
       "      <td>BTS</td>\n",
       "    </tr>\n",
       "    <tr>\n",
       "      <th>3</th>\n",
       "      <td>Last Night</td>\n",
       "      <td>Morgan Wallen</td>\n",
       "    </tr>\n",
       "    <tr>\n",
       "      <th>4</th>\n",
       "      <td>Need A Favor</td>\n",
       "      <td>Jelly Roll</td>\n",
       "    </tr>\n",
       "    <tr>\n",
       "      <th>...</th>\n",
       "      <td>...</td>\n",
       "      <td>...</td>\n",
       "    </tr>\n",
       "    <tr>\n",
       "      <th>94</th>\n",
       "      <td>Jericho</td>\n",
       "      <td>Iniko</td>\n",
       "    </tr>\n",
       "    <tr>\n",
       "      <th>95</th>\n",
       "      <td>You Need To Calm Down</td>\n",
       "      <td>Taylor Swift</td>\n",
       "    </tr>\n",
       "    <tr>\n",
       "      <th>96</th>\n",
       "      <td>Hits Different</td>\n",
       "      <td>Taylor Swift</td>\n",
       "    </tr>\n",
       "    <tr>\n",
       "      <th>97</th>\n",
       "      <td>HAPPY</td>\n",
       "      <td>NF</td>\n",
       "    </tr>\n",
       "    <tr>\n",
       "      <th>98</th>\n",
       "      <td>PLEBADA</td>\n",
       "      <td>El Alfa &amp; Peso Pluma</td>\n",
       "    </tr>\n",
       "  </tbody>\n",
       "</table>\n",
       "<p>99 rows × 2 columns</p>\n",
       "</div>"
      ],
      "text/plain": [
       "                       title                        artists\n",
       "0   81 Million Votes, My Ass  The Truth Bombers & Kari Lake\n",
       "1                   Fast Car                     Luke Combs\n",
       "2                   Take Two                            BTS\n",
       "3                 Last Night                  Morgan Wallen\n",
       "4               Need A Favor                     Jelly Roll\n",
       "..                       ...                            ...\n",
       "94                   Jericho                          Iniko\n",
       "95     You Need To Calm Down                   Taylor Swift\n",
       "96            Hits Different                   Taylor Swift\n",
       "97                     HAPPY                             NF\n",
       "98                   PLEBADA           El Alfa & Peso Pluma\n",
       "\n",
       "[99 rows x 2 columns]"
      ]
     },
     "execution_count": 113,
     "metadata": {},
     "output_type": "execute_result"
    }
   ],
   "source": [
    "topSongs_df = pd.DataFrame({\"title\" : titles, \"artists\" : artists})\n",
    "topSongs_df"
   ]
  },
  {
   "cell_type": "code",
   "execution_count": null,
   "id": "a56901c2",
   "metadata": {},
   "outputs": [],
   "source": []
  },
  {
   "cell_type": "code",
   "execution_count": null,
   "id": "73fef551",
   "metadata": {},
   "outputs": [],
   "source": []
  }
 ],
 "metadata": {
  "kernelspec": {
   "display_name": "Python 3 (ipykernel)",
   "language": "python",
   "name": "python3"
  },
  "language_info": {
   "codemirror_mode": {
    "name": "ipython",
    "version": 3
   },
   "file_extension": ".py",
   "mimetype": "text/x-python",
   "name": "python",
   "nbconvert_exporter": "python",
   "pygments_lexer": "ipython3",
   "version": "3.10.9"
  }
 },
 "nbformat": 4,
 "nbformat_minor": 5
}
